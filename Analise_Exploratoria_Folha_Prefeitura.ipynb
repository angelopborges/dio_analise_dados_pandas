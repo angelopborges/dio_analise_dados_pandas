{
  "nbformat": 4,
  "nbformat_minor": 0,
  "metadata": {
    "colab": {
      "provenance": []
    },
    "kernelspec": {
      "name": "python3",
      "display_name": "Python 3"
    }
  },
  "cells": [
    {
      "cell_type": "markdown",
      "source": [
        "# Import e Upload\n"
      ],
      "metadata": {
        "id": "grkxMEUmW2fF"
      }
    },
    {
      "cell_type": "code",
      "metadata": {
        "id": "G5HpRApza9UR"
      },
      "source": [
        "#Importando as bibliotecas\n",
        "import pandas as pd\n",
        "import matplotlib.pyplot as plt\n",
        "plt.style.use(\"seaborn\")"
      ],
      "execution_count": 4,
      "outputs": []
    },
    {
      "cell_type": "code",
      "source": [
        "#from google.colab import drive\n",
        "#drive.mount('/content/drive')"
      ],
      "metadata": {
        "colab": {
          "base_uri": "https://localhost:8080/"
        },
        "id": "G5aQk5UP_hat",
        "outputId": "2e4862ab-dea2-4632-8dbc-be426de2d1b1"
      },
      "execution_count": 1,
      "outputs": [
        {
          "output_type": "stream",
          "name": "stdout",
          "text": [
            "Mounted at /content/drive\n"
          ]
        }
      ]
    },
    {
      "cell_type": "code",
      "metadata": {
        "id": "3qLVp0Z_bUXq",
        "outputId": "ca44105f-0876-42ee-caf5-d06d7b9391ee",
        "colab": {
          "base_uri": "https://localhost:8080/",
          "height": 73
        }
      },
      "source": [
        "#Upload do arquivo\n",
        "from google.colab import files\n",
        "arq = files.upload()"
      ],
      "execution_count": 36,
      "outputs": [
        {
          "output_type": "display_data",
          "data": {
            "text/plain": [
              "<IPython.core.display.HTML object>"
            ],
            "text/html": [
              "\n",
              "     <input type=\"file\" id=\"files-13a2b356-e4e8-47f2-86d8-ffeb29a58096\" name=\"files[]\" multiple disabled\n",
              "        style=\"border:none\" />\n",
              "     <output id=\"result-13a2b356-e4e8-47f2-86d8-ffeb29a58096\">\n",
              "      Upload widget is only available when the cell has been executed in the\n",
              "      current browser session. Please rerun this cell to enable.\n",
              "      </output>\n",
              "      <script>// Copyright 2017 Google LLC\n",
              "//\n",
              "// Licensed under the Apache License, Version 2.0 (the \"License\");\n",
              "// you may not use this file except in compliance with the License.\n",
              "// You may obtain a copy of the License at\n",
              "//\n",
              "//      http://www.apache.org/licenses/LICENSE-2.0\n",
              "//\n",
              "// Unless required by applicable law or agreed to in writing, software\n",
              "// distributed under the License is distributed on an \"AS IS\" BASIS,\n",
              "// WITHOUT WARRANTIES OR CONDITIONS OF ANY KIND, either express or implied.\n",
              "// See the License for the specific language governing permissions and\n",
              "// limitations under the License.\n",
              "\n",
              "/**\n",
              " * @fileoverview Helpers for google.colab Python module.\n",
              " */\n",
              "(function(scope) {\n",
              "function span(text, styleAttributes = {}) {\n",
              "  const element = document.createElement('span');\n",
              "  element.textContent = text;\n",
              "  for (const key of Object.keys(styleAttributes)) {\n",
              "    element.style[key] = styleAttributes[key];\n",
              "  }\n",
              "  return element;\n",
              "}\n",
              "\n",
              "// Max number of bytes which will be uploaded at a time.\n",
              "const MAX_PAYLOAD_SIZE = 100 * 1024;\n",
              "\n",
              "function _uploadFiles(inputId, outputId) {\n",
              "  const steps = uploadFilesStep(inputId, outputId);\n",
              "  const outputElement = document.getElementById(outputId);\n",
              "  // Cache steps on the outputElement to make it available for the next call\n",
              "  // to uploadFilesContinue from Python.\n",
              "  outputElement.steps = steps;\n",
              "\n",
              "  return _uploadFilesContinue(outputId);\n",
              "}\n",
              "\n",
              "// This is roughly an async generator (not supported in the browser yet),\n",
              "// where there are multiple asynchronous steps and the Python side is going\n",
              "// to poll for completion of each step.\n",
              "// This uses a Promise to block the python side on completion of each step,\n",
              "// then passes the result of the previous step as the input to the next step.\n",
              "function _uploadFilesContinue(outputId) {\n",
              "  const outputElement = document.getElementById(outputId);\n",
              "  const steps = outputElement.steps;\n",
              "\n",
              "  const next = steps.next(outputElement.lastPromiseValue);\n",
              "  return Promise.resolve(next.value.promise).then((value) => {\n",
              "    // Cache the last promise value to make it available to the next\n",
              "    // step of the generator.\n",
              "    outputElement.lastPromiseValue = value;\n",
              "    return next.value.response;\n",
              "  });\n",
              "}\n",
              "\n",
              "/**\n",
              " * Generator function which is called between each async step of the upload\n",
              " * process.\n",
              " * @param {string} inputId Element ID of the input file picker element.\n",
              " * @param {string} outputId Element ID of the output display.\n",
              " * @return {!Iterable<!Object>} Iterable of next steps.\n",
              " */\n",
              "function* uploadFilesStep(inputId, outputId) {\n",
              "  const inputElement = document.getElementById(inputId);\n",
              "  inputElement.disabled = false;\n",
              "\n",
              "  const outputElement = document.getElementById(outputId);\n",
              "  outputElement.innerHTML = '';\n",
              "\n",
              "  const pickedPromise = new Promise((resolve) => {\n",
              "    inputElement.addEventListener('change', (e) => {\n",
              "      resolve(e.target.files);\n",
              "    });\n",
              "  });\n",
              "\n",
              "  const cancel = document.createElement('button');\n",
              "  inputElement.parentElement.appendChild(cancel);\n",
              "  cancel.textContent = 'Cancel upload';\n",
              "  const cancelPromise = new Promise((resolve) => {\n",
              "    cancel.onclick = () => {\n",
              "      resolve(null);\n",
              "    };\n",
              "  });\n",
              "\n",
              "  // Wait for the user to pick the files.\n",
              "  const files = yield {\n",
              "    promise: Promise.race([pickedPromise, cancelPromise]),\n",
              "    response: {\n",
              "      action: 'starting',\n",
              "    }\n",
              "  };\n",
              "\n",
              "  cancel.remove();\n",
              "\n",
              "  // Disable the input element since further picks are not allowed.\n",
              "  inputElement.disabled = true;\n",
              "\n",
              "  if (!files) {\n",
              "    return {\n",
              "      response: {\n",
              "        action: 'complete',\n",
              "      }\n",
              "    };\n",
              "  }\n",
              "\n",
              "  for (const file of files) {\n",
              "    const li = document.createElement('li');\n",
              "    li.append(span(file.name, {fontWeight: 'bold'}));\n",
              "    li.append(span(\n",
              "        `(${file.type || 'n/a'}) - ${file.size} bytes, ` +\n",
              "        `last modified: ${\n",
              "            file.lastModifiedDate ? file.lastModifiedDate.toLocaleDateString() :\n",
              "                                    'n/a'} - `));\n",
              "    const percent = span('0% done');\n",
              "    li.appendChild(percent);\n",
              "\n",
              "    outputElement.appendChild(li);\n",
              "\n",
              "    const fileDataPromise = new Promise((resolve) => {\n",
              "      const reader = new FileReader();\n",
              "      reader.onload = (e) => {\n",
              "        resolve(e.target.result);\n",
              "      };\n",
              "      reader.readAsArrayBuffer(file);\n",
              "    });\n",
              "    // Wait for the data to be ready.\n",
              "    let fileData = yield {\n",
              "      promise: fileDataPromise,\n",
              "      response: {\n",
              "        action: 'continue',\n",
              "      }\n",
              "    };\n",
              "\n",
              "    // Use a chunked sending to avoid message size limits. See b/62115660.\n",
              "    let position = 0;\n",
              "    do {\n",
              "      const length = Math.min(fileData.byteLength - position, MAX_PAYLOAD_SIZE);\n",
              "      const chunk = new Uint8Array(fileData, position, length);\n",
              "      position += length;\n",
              "\n",
              "      const base64 = btoa(String.fromCharCode.apply(null, chunk));\n",
              "      yield {\n",
              "        response: {\n",
              "          action: 'append',\n",
              "          file: file.name,\n",
              "          data: base64,\n",
              "        },\n",
              "      };\n",
              "\n",
              "      let percentDone = fileData.byteLength === 0 ?\n",
              "          100 :\n",
              "          Math.round((position / fileData.byteLength) * 100);\n",
              "      percent.textContent = `${percentDone}% done`;\n",
              "\n",
              "    } while (position < fileData.byteLength);\n",
              "  }\n",
              "\n",
              "  // All done.\n",
              "  yield {\n",
              "    response: {\n",
              "      action: 'complete',\n",
              "    }\n",
              "  };\n",
              "}\n",
              "\n",
              "scope.google = scope.google || {};\n",
              "scope.google.colab = scope.google.colab || {};\n",
              "scope.google.colab._files = {\n",
              "  _uploadFiles,\n",
              "  _uploadFilesContinue,\n",
              "};\n",
              "})(self);\n",
              "</script> "
            ]
          },
          "metadata": {}
        },
        {
          "output_type": "stream",
          "name": "stdout",
          "text": [
            "Saving Folha_Entre_Rios_agosto - folha.csv to Folha_Entre_Rios_agosto - folha.csv\n"
          ]
        }
      ]
    },
    {
      "cell_type": "markdown",
      "source": [
        "# Folha - Prefeitura Municipal de Entre Rios de Minas\n",
        "\n",
        "## As informações desta base de dados são disponibilizadas pelo Portal da Transparência no site oficial da Prefeitura\n",
        "\n",
        "Houve um tratamento para que ficasse num melhor formato para a análise e removido a coluna de \"Nome\" visando a LGPD.\n",
        "\n",
        "A ideia, neste momento, é somente uma visão da folha da cidade. Sem julgamentos e sem interesses políticos sobre salários ou quantidade de funcionários."
      ],
      "metadata": {
        "id": "KbBecH_YV4Dy"
      }
    },
    {
      "cell_type": "code",
      "metadata": {
        "id": "Rpxs2yU0ba23"
      },
      "source": [
        "#Criando o DataFrame\n",
        "df = pd.read_csv(\"Folha_Entre_Rios_agosto - folha.csv\") "
      ],
      "execution_count": 54,
      "outputs": []
    },
    {
      "cell_type": "code",
      "metadata": {
        "id": "DPOEg0MikIXG",
        "outputId": "eab85607-9d2b-4855-b4e4-e1dd1b0a9104",
        "colab": {
          "base_uri": "https://localhost:8080/",
          "height": 337
        }
      },
      "source": [
        "#Visualizando as 5 primeiras linhas\n",
        "df.head()"
      ],
      "execution_count": 55,
      "outputs": [
        {
          "output_type": "execute_result",
          "data": {
            "text/plain": [
              "   nm_vinculo  nm_matricula         nr_cpf ds_situacao      ds_admissao  \\\n",
              "0         132           132  ***.179196-**       Ativo          Efetivo   \n",
              "1        2530          2530  ***.179076-**       Ativo  Agente Político   \n",
              "2        4358          3669  ***.780646-**       Ativo       Contratado   \n",
              "3        4082          3589  ***.151216-**       Ativo       Contratado   \n",
              "4        4151          3618  ***.072896-**       Ativo       Contratado   \n",
              "\n",
              "                      ds_cargo                    ds_funcao  \\\n",
              "0  AUXILIAR DE SERVIÇOS GERAIS  AUXILIAR DE SERVIÇOS GERAIS   \n",
              "1                     PREFEITO                     PREFEITO   \n",
              "2                   MEDICO PSF                   MEDICO PSF   \n",
              "3                   MEDICO PSF                   MEDICO PSF   \n",
              "4                   MEDICO PSF                   MEDICO PSF   \n",
              "\n",
              "                            ds_lotacao             sg_carga ds_beneficio  \\\n",
              "0         MAN DA LIMPEZA PUBLICA USINA              EFETIVO          NaN   \n",
              "1      MANUTENCAO GABINETE DO PREFEITO      AGENTE POLÍTICO          NaN   \n",
              "2  MAN DO PROGRAMA DE SAUDE DA FAMILIA  SERVIDOR TEMPORÁRIO          NaN   \n",
              "3  MAN DO PROGRAMA DE SAUDE DA FAMILIA  SERVIDOR TEMPORÁRIO          NaN   \n",
              "4  MAN DO PROGRAMA DE SAUDE DA FAMILIA  SERVIDOR TEMPORÁRIO          NaN   \n",
              "\n",
              "  nr_remunera_bruta nr_remunera_liquida  \n",
              "0         30.216,52           30.119,63  \n",
              "1         22.176,84           16.347,00  \n",
              "2         16.932,33           12.544,73  \n",
              "3         16.932,23           12.544,66  \n",
              "4         16.932,23           12.544,66  "
            ],
            "text/html": [
              "\n",
              "  <div id=\"df-a2ae9ce3-35e6-43a0-a140-4e55be40f76b\">\n",
              "    <div class=\"colab-df-container\">\n",
              "      <div>\n",
              "<style scoped>\n",
              "    .dataframe tbody tr th:only-of-type {\n",
              "        vertical-align: middle;\n",
              "    }\n",
              "\n",
              "    .dataframe tbody tr th {\n",
              "        vertical-align: top;\n",
              "    }\n",
              "\n",
              "    .dataframe thead th {\n",
              "        text-align: right;\n",
              "    }\n",
              "</style>\n",
              "<table border=\"1\" class=\"dataframe\">\n",
              "  <thead>\n",
              "    <tr style=\"text-align: right;\">\n",
              "      <th></th>\n",
              "      <th>nm_vinculo</th>\n",
              "      <th>nm_matricula</th>\n",
              "      <th>nr_cpf</th>\n",
              "      <th>ds_situacao</th>\n",
              "      <th>ds_admissao</th>\n",
              "      <th>ds_cargo</th>\n",
              "      <th>ds_funcao</th>\n",
              "      <th>ds_lotacao</th>\n",
              "      <th>sg_carga</th>\n",
              "      <th>ds_beneficio</th>\n",
              "      <th>nr_remunera_bruta</th>\n",
              "      <th>nr_remunera_liquida</th>\n",
              "    </tr>\n",
              "  </thead>\n",
              "  <tbody>\n",
              "    <tr>\n",
              "      <th>0</th>\n",
              "      <td>132</td>\n",
              "      <td>132</td>\n",
              "      <td>***.179196-**</td>\n",
              "      <td>Ativo</td>\n",
              "      <td>Efetivo</td>\n",
              "      <td>AUXILIAR DE SERVIÇOS GERAIS</td>\n",
              "      <td>AUXILIAR DE SERVIÇOS GERAIS</td>\n",
              "      <td>MAN DA LIMPEZA PUBLICA USINA</td>\n",
              "      <td>EFETIVO</td>\n",
              "      <td>NaN</td>\n",
              "      <td>30.216,52</td>\n",
              "      <td>30.119,63</td>\n",
              "    </tr>\n",
              "    <tr>\n",
              "      <th>1</th>\n",
              "      <td>2530</td>\n",
              "      <td>2530</td>\n",
              "      <td>***.179076-**</td>\n",
              "      <td>Ativo</td>\n",
              "      <td>Agente Político</td>\n",
              "      <td>PREFEITO</td>\n",
              "      <td>PREFEITO</td>\n",
              "      <td>MANUTENCAO GABINETE DO PREFEITO</td>\n",
              "      <td>AGENTE POLÍTICO</td>\n",
              "      <td>NaN</td>\n",
              "      <td>22.176,84</td>\n",
              "      <td>16.347,00</td>\n",
              "    </tr>\n",
              "    <tr>\n",
              "      <th>2</th>\n",
              "      <td>4358</td>\n",
              "      <td>3669</td>\n",
              "      <td>***.780646-**</td>\n",
              "      <td>Ativo</td>\n",
              "      <td>Contratado</td>\n",
              "      <td>MEDICO PSF</td>\n",
              "      <td>MEDICO PSF</td>\n",
              "      <td>MAN DO PROGRAMA DE SAUDE DA FAMILIA</td>\n",
              "      <td>SERVIDOR TEMPORÁRIO</td>\n",
              "      <td>NaN</td>\n",
              "      <td>16.932,33</td>\n",
              "      <td>12.544,73</td>\n",
              "    </tr>\n",
              "    <tr>\n",
              "      <th>3</th>\n",
              "      <td>4082</td>\n",
              "      <td>3589</td>\n",
              "      <td>***.151216-**</td>\n",
              "      <td>Ativo</td>\n",
              "      <td>Contratado</td>\n",
              "      <td>MEDICO PSF</td>\n",
              "      <td>MEDICO PSF</td>\n",
              "      <td>MAN DO PROGRAMA DE SAUDE DA FAMILIA</td>\n",
              "      <td>SERVIDOR TEMPORÁRIO</td>\n",
              "      <td>NaN</td>\n",
              "      <td>16.932,23</td>\n",
              "      <td>12.544,66</td>\n",
              "    </tr>\n",
              "    <tr>\n",
              "      <th>4</th>\n",
              "      <td>4151</td>\n",
              "      <td>3618</td>\n",
              "      <td>***.072896-**</td>\n",
              "      <td>Ativo</td>\n",
              "      <td>Contratado</td>\n",
              "      <td>MEDICO PSF</td>\n",
              "      <td>MEDICO PSF</td>\n",
              "      <td>MAN DO PROGRAMA DE SAUDE DA FAMILIA</td>\n",
              "      <td>SERVIDOR TEMPORÁRIO</td>\n",
              "      <td>NaN</td>\n",
              "      <td>16.932,23</td>\n",
              "      <td>12.544,66</td>\n",
              "    </tr>\n",
              "  </tbody>\n",
              "</table>\n",
              "</div>\n",
              "      <button class=\"colab-df-convert\" onclick=\"convertToInteractive('df-a2ae9ce3-35e6-43a0-a140-4e55be40f76b')\"\n",
              "              title=\"Convert this dataframe to an interactive table.\"\n",
              "              style=\"display:none;\">\n",
              "        \n",
              "  <svg xmlns=\"http://www.w3.org/2000/svg\" height=\"24px\"viewBox=\"0 0 24 24\"\n",
              "       width=\"24px\">\n",
              "    <path d=\"M0 0h24v24H0V0z\" fill=\"none\"/>\n",
              "    <path d=\"M18.56 5.44l.94 2.06.94-2.06 2.06-.94-2.06-.94-.94-2.06-.94 2.06-2.06.94zm-11 1L8.5 8.5l.94-2.06 2.06-.94-2.06-.94L8.5 2.5l-.94 2.06-2.06.94zm10 10l.94 2.06.94-2.06 2.06-.94-2.06-.94-.94-2.06-.94 2.06-2.06.94z\"/><path d=\"M17.41 7.96l-1.37-1.37c-.4-.4-.92-.59-1.43-.59-.52 0-1.04.2-1.43.59L10.3 9.45l-7.72 7.72c-.78.78-.78 2.05 0 2.83L4 21.41c.39.39.9.59 1.41.59.51 0 1.02-.2 1.41-.59l7.78-7.78 2.81-2.81c.8-.78.8-2.07 0-2.86zM5.41 20L4 18.59l7.72-7.72 1.47 1.35L5.41 20z\"/>\n",
              "  </svg>\n",
              "      </button>\n",
              "      \n",
              "  <style>\n",
              "    .colab-df-container {\n",
              "      display:flex;\n",
              "      flex-wrap:wrap;\n",
              "      gap: 12px;\n",
              "    }\n",
              "\n",
              "    .colab-df-convert {\n",
              "      background-color: #E8F0FE;\n",
              "      border: none;\n",
              "      border-radius: 50%;\n",
              "      cursor: pointer;\n",
              "      display: none;\n",
              "      fill: #1967D2;\n",
              "      height: 32px;\n",
              "      padding: 0 0 0 0;\n",
              "      width: 32px;\n",
              "    }\n",
              "\n",
              "    .colab-df-convert:hover {\n",
              "      background-color: #E2EBFA;\n",
              "      box-shadow: 0px 1px 2px rgba(60, 64, 67, 0.3), 0px 1px 3px 1px rgba(60, 64, 67, 0.15);\n",
              "      fill: #174EA6;\n",
              "    }\n",
              "\n",
              "    [theme=dark] .colab-df-convert {\n",
              "      background-color: #3B4455;\n",
              "      fill: #D2E3FC;\n",
              "    }\n",
              "\n",
              "    [theme=dark] .colab-df-convert:hover {\n",
              "      background-color: #434B5C;\n",
              "      box-shadow: 0px 1px 3px 1px rgba(0, 0, 0, 0.15);\n",
              "      filter: drop-shadow(0px 1px 2px rgba(0, 0, 0, 0.3));\n",
              "      fill: #FFFFFF;\n",
              "    }\n",
              "  </style>\n",
              "\n",
              "      <script>\n",
              "        const buttonEl =\n",
              "          document.querySelector('#df-a2ae9ce3-35e6-43a0-a140-4e55be40f76b button.colab-df-convert');\n",
              "        buttonEl.style.display =\n",
              "          google.colab.kernel.accessAllowed ? 'block' : 'none';\n",
              "\n",
              "        async function convertToInteractive(key) {\n",
              "          const element = document.querySelector('#df-a2ae9ce3-35e6-43a0-a140-4e55be40f76b');\n",
              "          const dataTable =\n",
              "            await google.colab.kernel.invokeFunction('convertToInteractive',\n",
              "                                                     [key], {});\n",
              "          if (!dataTable) return;\n",
              "\n",
              "          const docLinkHtml = 'Like what you see? Visit the ' +\n",
              "            '<a target=\"_blank\" href=https://colab.research.google.com/notebooks/data_table.ipynb>data table notebook</a>'\n",
              "            + ' to learn more about interactive tables.';\n",
              "          element.innerHTML = '';\n",
              "          dataTable['output_type'] = 'display_data';\n",
              "          await google.colab.output.renderOutput(dataTable, element);\n",
              "          const docLink = document.createElement('div');\n",
              "          docLink.innerHTML = docLinkHtml;\n",
              "          element.appendChild(docLink);\n",
              "        }\n",
              "      </script>\n",
              "    </div>\n",
              "  </div>\n",
              "  "
            ]
          },
          "metadata": {},
          "execution_count": 55
        }
      ]
    },
    {
      "cell_type": "code",
      "metadata": {
        "id": "UCJpu--kK9wo",
        "outputId": "fc8eadbb-f90b-4408-910f-752ca3d5aa59",
        "colab": {
          "base_uri": "https://localhost:8080/"
        }
      },
      "source": [
        "#Quantidade de linhas e colunas\n",
        "df.shape"
      ],
      "execution_count": 56,
      "outputs": [
        {
          "output_type": "execute_result",
          "data": {
            "text/plain": [
              "(700, 12)"
            ]
          },
          "metadata": {},
          "execution_count": 56
        }
      ]
    },
    {
      "cell_type": "code",
      "metadata": {
        "id": "P9S1i8o1lUu-",
        "outputId": "2f3be05a-d59d-4cf6-b89a-2492ccd2d93f",
        "colab": {
          "base_uri": "https://localhost:8080/"
        }
      },
      "source": [
        "#Verificando os tipos de dados\n",
        "df.dtypes"
      ],
      "execution_count": 57,
      "outputs": [
        {
          "output_type": "execute_result",
          "data": {
            "text/plain": [
              "nm_vinculo              int64\n",
              "nm_matricula            int64\n",
              "nr_cpf                 object\n",
              "ds_situacao            object\n",
              "ds_admissao            object\n",
              "ds_cargo               object\n",
              "ds_funcao              object\n",
              "ds_lotacao             object\n",
              "sg_carga               object\n",
              "ds_beneficio           object\n",
              "nr_remunera_bruta      object\n",
              "nr_remunera_liquida    object\n",
              "dtype: object"
            ]
          },
          "metadata": {},
          "execution_count": 57
        }
      ]
    },
    {
      "cell_type": "code",
      "source": [
        "#Alterando o tipo das variáveis de remuneração\n",
        "df[\"nr_remunera_liquida\"] = (df[\"nr_remunera_liquida\"].str.replace('.', ''))\n",
        "df[\"nr_remunera_liquida\"] = pd.to_numeric(df[\"nr_remunera_liquida\"].str.replace(',', '.'))\n",
        "df.dtypes"
      ],
      "metadata": {
        "colab": {
          "base_uri": "https://localhost:8080/"
        },
        "id": "Yk7-Og3sC8qK",
        "outputId": "5008187d-ef40-49f1-f6a0-9327c8764d44"
      },
      "execution_count": 62,
      "outputs": [
        {
          "output_type": "stream",
          "name": "stderr",
          "text": [
            "/usr/local/lib/python3.7/dist-packages/ipykernel_launcher.py:1: FutureWarning: The default value of regex will change from True to False in a future version. In addition, single character regular expressions will *not* be treated as literal strings when regex=True.\n",
            "  \"\"\"Entry point for launching an IPython kernel.\n"
          ]
        },
        {
          "output_type": "execute_result",
          "data": {
            "text/plain": [
              "nm_vinculo               int64\n",
              "nm_matricula             int64\n",
              "nr_cpf                  object\n",
              "ds_situacao             object\n",
              "ds_admissao             object\n",
              "ds_cargo                object\n",
              "ds_funcao               object\n",
              "ds_lotacao              object\n",
              "sg_carga                object\n",
              "ds_beneficio            object\n",
              "nr_remunera_bruta       object\n",
              "nr_remunera_liquida    float64\n",
              "dtype: object"
            ]
          },
          "metadata": {},
          "execution_count": 62
        }
      ]
    },
    {
      "cell_type": "code",
      "source": [
        "df[\"nr_remunera_bruta\"] = (df[\"nr_remunera_bruta\"].str.replace('.', ''))\n",
        "df[\"nr_remunera_bruta\"] = pd.to_numeric(df[\"nr_remunera_bruta\"].str.replace(',', '.'))\n",
        "df.dtypes"
      ],
      "metadata": {
        "colab": {
          "base_uri": "https://localhost:8080/"
        },
        "id": "isrhQvdUDu5U",
        "outputId": "beb137c6-2511-4ce9-a595-798c4a89bfc4"
      },
      "execution_count": 64,
      "outputs": [
        {
          "output_type": "stream",
          "name": "stderr",
          "text": [
            "/usr/local/lib/python3.7/dist-packages/ipykernel_launcher.py:1: FutureWarning: The default value of regex will change from True to False in a future version. In addition, single character regular expressions will *not* be treated as literal strings when regex=True.\n",
            "  \"\"\"Entry point for launching an IPython kernel.\n"
          ]
        },
        {
          "output_type": "execute_result",
          "data": {
            "text/plain": [
              "nm_vinculo               int64\n",
              "nm_matricula             int64\n",
              "nr_cpf                  object\n",
              "ds_situacao             object\n",
              "ds_admissao             object\n",
              "ds_cargo                object\n",
              "ds_funcao               object\n",
              "ds_lotacao              object\n",
              "sg_carga                object\n",
              "ds_beneficio            object\n",
              "nr_remunera_bruta      float64\n",
              "nr_remunera_liquida    float64\n",
              "dtype: object"
            ]
          },
          "metadata": {},
          "execution_count": 64
        }
      ]
    },
    {
      "cell_type": "code",
      "metadata": {
        "id": "duheNX1GlhWw",
        "outputId": "0d964f94-3e44-4136-c9c6-d28ce6c0ea51",
        "colab": {
          "base_uri": "https://localhost:8080/"
        }
      },
      "source": [
        "#Qual o gasto da folha de agosto total?\n",
        "df[\"nr_remunera_bruta\"].sum()"
      ],
      "execution_count": 169,
      "outputs": [
        {
          "output_type": "execute_result",
          "data": {
            "text/plain": [
              "1722515.84"
            ]
          },
          "metadata": {},
          "execution_count": 169
        }
      ]
    },
    {
      "cell_type": "code",
      "metadata": {
        "id": "3fy4QmNLmMWd",
        "outputId": "6de745e5-4477-4da4-b8e6-25da68a15024",
        "colab": {
          "base_uri": "https://localhost:8080/",
          "height": 300
        }
      },
      "source": [
        "df.describe()"
      ],
      "execution_count": 115,
      "outputs": [
        {
          "output_type": "execute_result",
          "data": {
            "text/plain": [
              "                nm_vinculo         nm_matricula    nr_remunera_bruta  \\\n",
              "count               700.00               700.00               700.00   \n",
              "mean              3,222.77             2,609.49             2,460.74   \n",
              "std               1,543.07             1,230.76             2,227.28   \n",
              "min                   2.00                 3.00                 0.00   \n",
              "25%               3,476.50             2,310.75             1,567.34   \n",
              "50%               3,981.50             3,179.50             1,987.73   \n",
              "75%               4,235.25             3,472.25             2,557.23   \n",
              "max               4,419.00             3,692.00            30,216.52   \n",
              "\n",
              "       nr_remunera_liquida  \n",
              "count               700.00  \n",
              "mean              2,192.02  \n",
              "std               1,888.80  \n",
              "min                   0.00  \n",
              "25%               1,452.44  \n",
              "50%               1,827.02  \n",
              "75%               2,340.29  \n",
              "max              30,119.63  "
            ],
            "text/html": [
              "\n",
              "  <div id=\"df-8905aa86-518f-4c6c-a123-e02a9e3b5a78\">\n",
              "    <div class=\"colab-df-container\">\n",
              "      <div>\n",
              "<style scoped>\n",
              "    .dataframe tbody tr th:only-of-type {\n",
              "        vertical-align: middle;\n",
              "    }\n",
              "\n",
              "    .dataframe tbody tr th {\n",
              "        vertical-align: top;\n",
              "    }\n",
              "\n",
              "    .dataframe thead th {\n",
              "        text-align: right;\n",
              "    }\n",
              "</style>\n",
              "<table border=\"1\" class=\"dataframe\">\n",
              "  <thead>\n",
              "    <tr style=\"text-align: right;\">\n",
              "      <th></th>\n",
              "      <th>nm_vinculo</th>\n",
              "      <th>nm_matricula</th>\n",
              "      <th>nr_remunera_bruta</th>\n",
              "      <th>nr_remunera_liquida</th>\n",
              "    </tr>\n",
              "  </thead>\n",
              "  <tbody>\n",
              "    <tr>\n",
              "      <th>count</th>\n",
              "      <td>700.00</td>\n",
              "      <td>700.00</td>\n",
              "      <td>700.00</td>\n",
              "      <td>700.00</td>\n",
              "    </tr>\n",
              "    <tr>\n",
              "      <th>mean</th>\n",
              "      <td>3,222.77</td>\n",
              "      <td>2,609.49</td>\n",
              "      <td>2,460.74</td>\n",
              "      <td>2,192.02</td>\n",
              "    </tr>\n",
              "    <tr>\n",
              "      <th>std</th>\n",
              "      <td>1,543.07</td>\n",
              "      <td>1,230.76</td>\n",
              "      <td>2,227.28</td>\n",
              "      <td>1,888.80</td>\n",
              "    </tr>\n",
              "    <tr>\n",
              "      <th>min</th>\n",
              "      <td>2.00</td>\n",
              "      <td>3.00</td>\n",
              "      <td>0.00</td>\n",
              "      <td>0.00</td>\n",
              "    </tr>\n",
              "    <tr>\n",
              "      <th>25%</th>\n",
              "      <td>3,476.50</td>\n",
              "      <td>2,310.75</td>\n",
              "      <td>1,567.34</td>\n",
              "      <td>1,452.44</td>\n",
              "    </tr>\n",
              "    <tr>\n",
              "      <th>50%</th>\n",
              "      <td>3,981.50</td>\n",
              "      <td>3,179.50</td>\n",
              "      <td>1,987.73</td>\n",
              "      <td>1,827.02</td>\n",
              "    </tr>\n",
              "    <tr>\n",
              "      <th>75%</th>\n",
              "      <td>4,235.25</td>\n",
              "      <td>3,472.25</td>\n",
              "      <td>2,557.23</td>\n",
              "      <td>2,340.29</td>\n",
              "    </tr>\n",
              "    <tr>\n",
              "      <th>max</th>\n",
              "      <td>4,419.00</td>\n",
              "      <td>3,692.00</td>\n",
              "      <td>30,216.52</td>\n",
              "      <td>30,119.63</td>\n",
              "    </tr>\n",
              "  </tbody>\n",
              "</table>\n",
              "</div>\n",
              "      <button class=\"colab-df-convert\" onclick=\"convertToInteractive('df-8905aa86-518f-4c6c-a123-e02a9e3b5a78')\"\n",
              "              title=\"Convert this dataframe to an interactive table.\"\n",
              "              style=\"display:none;\">\n",
              "        \n",
              "  <svg xmlns=\"http://www.w3.org/2000/svg\" height=\"24px\"viewBox=\"0 0 24 24\"\n",
              "       width=\"24px\">\n",
              "    <path d=\"M0 0h24v24H0V0z\" fill=\"none\"/>\n",
              "    <path d=\"M18.56 5.44l.94 2.06.94-2.06 2.06-.94-2.06-.94-.94-2.06-.94 2.06-2.06.94zm-11 1L8.5 8.5l.94-2.06 2.06-.94-2.06-.94L8.5 2.5l-.94 2.06-2.06.94zm10 10l.94 2.06.94-2.06 2.06-.94-2.06-.94-.94-2.06-.94 2.06-2.06.94z\"/><path d=\"M17.41 7.96l-1.37-1.37c-.4-.4-.92-.59-1.43-.59-.52 0-1.04.2-1.43.59L10.3 9.45l-7.72 7.72c-.78.78-.78 2.05 0 2.83L4 21.41c.39.39.9.59 1.41.59.51 0 1.02-.2 1.41-.59l7.78-7.78 2.81-2.81c.8-.78.8-2.07 0-2.86zM5.41 20L4 18.59l7.72-7.72 1.47 1.35L5.41 20z\"/>\n",
              "  </svg>\n",
              "      </button>\n",
              "      \n",
              "  <style>\n",
              "    .colab-df-container {\n",
              "      display:flex;\n",
              "      flex-wrap:wrap;\n",
              "      gap: 12px;\n",
              "    }\n",
              "\n",
              "    .colab-df-convert {\n",
              "      background-color: #E8F0FE;\n",
              "      border: none;\n",
              "      border-radius: 50%;\n",
              "      cursor: pointer;\n",
              "      display: none;\n",
              "      fill: #1967D2;\n",
              "      height: 32px;\n",
              "      padding: 0 0 0 0;\n",
              "      width: 32px;\n",
              "    }\n",
              "\n",
              "    .colab-df-convert:hover {\n",
              "      background-color: #E2EBFA;\n",
              "      box-shadow: 0px 1px 2px rgba(60, 64, 67, 0.3), 0px 1px 3px 1px rgba(60, 64, 67, 0.15);\n",
              "      fill: #174EA6;\n",
              "    }\n",
              "\n",
              "    [theme=dark] .colab-df-convert {\n",
              "      background-color: #3B4455;\n",
              "      fill: #D2E3FC;\n",
              "    }\n",
              "\n",
              "    [theme=dark] .colab-df-convert:hover {\n",
              "      background-color: #434B5C;\n",
              "      box-shadow: 0px 1px 3px 1px rgba(0, 0, 0, 0.15);\n",
              "      filter: drop-shadow(0px 1px 2px rgba(0, 0, 0, 0.3));\n",
              "      fill: #FFFFFF;\n",
              "    }\n",
              "  </style>\n",
              "\n",
              "      <script>\n",
              "        const buttonEl =\n",
              "          document.querySelector('#df-8905aa86-518f-4c6c-a123-e02a9e3b5a78 button.colab-df-convert');\n",
              "        buttonEl.style.display =\n",
              "          google.colab.kernel.accessAllowed ? 'block' : 'none';\n",
              "\n",
              "        async function convertToInteractive(key) {\n",
              "          const element = document.querySelector('#df-8905aa86-518f-4c6c-a123-e02a9e3b5a78');\n",
              "          const dataTable =\n",
              "            await google.colab.kernel.invokeFunction('convertToInteractive',\n",
              "                                                     [key], {});\n",
              "          if (!dataTable) return;\n",
              "\n",
              "          const docLinkHtml = 'Like what you see? Visit the ' +\n",
              "            '<a target=\"_blank\" href=https://colab.research.google.com/notebooks/data_table.ipynb>data table notebook</a>'\n",
              "            + ' to learn more about interactive tables.';\n",
              "          element.innerHTML = '';\n",
              "          dataTable['output_type'] = 'display_data';\n",
              "          await google.colab.output.renderOutput(dataTable, element);\n",
              "          const docLink = document.createElement('div');\n",
              "          docLink.innerHTML = docLinkHtml;\n",
              "          element.appendChild(docLink);\n",
              "        }\n",
              "      </script>\n",
              "    </div>\n",
              "  </div>\n",
              "  "
            ]
          },
          "metadata": {},
          "execution_count": 115
        }
      ]
    },
    {
      "cell_type": "code",
      "source": [
        "iw = (df[\"nr_remunera_liquida\"].max()-df[\"nr_remunera_liquida\"].min())/10"
      ],
      "metadata": {
        "id": "VVYwKnDoPiad"
      },
      "execution_count": 135,
      "outputs": []
    },
    {
      "cell_type": "code",
      "source": [
        "#Construindo uma tabela de frequência"
      ],
      "metadata": {
        "colab": {
          "base_uri": "https://localhost:8080/"
        },
        "id": "YUqrXepQRa0i",
        "outputId": "c95a9b6e-57a2-4162-a916-cd4bccc36553"
      },
      "execution_count": 150,
      "outputs": [
        {
          "output_type": "execute_result",
          "data": {
            "text/plain": [
              "3011.963"
            ]
          },
          "metadata": {},
          "execution_count": 150
        }
      ]
    },
    {
      "cell_type": "markdown",
      "source": [
        "# Construindo uma tabela de frequência"
      ],
      "metadata": {
        "id": "oadzPHMqUd5R"
      }
    },
    {
      "cell_type": "code",
      "source": [
        "import numpy as np\n",
        "Abs_frecuency, intervals = np.histogram(df[\"nr_remunera_liquida\"], bins = [0, 1000, 2000, 3000, 4000, 5000, 10000, 20000, 310000])"
      ],
      "metadata": {
        "id": "bSmZhhHwP3lk"
      },
      "execution_count": 152,
      "outputs": []
    },
    {
      "cell_type": "code",
      "source": [
        "# Create dataframe\n",
        "tabela_freq = pd.DataFrame(index = np.linspace(1,8,8), columns = ['start', 'end','Frec_abs'])\n",
        "# Assign the intervals\n",
        "tabela_freq['start'] = intervals[:-1]\n",
        "tabela_freq['end'] = intervals[1:]\n",
        "# Assing Absolute frecuency\n",
        "tabela_freq['Frec_abs'] = Abs_frecuency\n",
        "tabela_freq"
      ],
      "metadata": {
        "colab": {
          "base_uri": "https://localhost:8080/",
          "height": 300
        },
        "id": "Lsuu6qZnQoIE",
        "outputId": "7822c957-a899-4b6c-bb94-3a53ec3b34e2"
      },
      "execution_count": 170,
      "outputs": [
        {
          "output_type": "execute_result",
          "data": {
            "text/plain": [
              "      start     end  Frec_abs\n",
              "1.00      0    1000        26\n",
              "2.00   1000    2000       441\n",
              "3.00   2000    3000       134\n",
              "4.00   3000    4000        45\n",
              "5.00   4000    5000        34\n",
              "6.00   5000   10000        11\n",
              "7.00  10000   20000         8\n",
              "8.00  20000  310000         1"
            ],
            "text/html": [
              "\n",
              "  <div id=\"df-9dc7be00-23f5-4bb5-a9ad-af196c140751\">\n",
              "    <div class=\"colab-df-container\">\n",
              "      <div>\n",
              "<style scoped>\n",
              "    .dataframe tbody tr th:only-of-type {\n",
              "        vertical-align: middle;\n",
              "    }\n",
              "\n",
              "    .dataframe tbody tr th {\n",
              "        vertical-align: top;\n",
              "    }\n",
              "\n",
              "    .dataframe thead th {\n",
              "        text-align: right;\n",
              "    }\n",
              "</style>\n",
              "<table border=\"1\" class=\"dataframe\">\n",
              "  <thead>\n",
              "    <tr style=\"text-align: right;\">\n",
              "      <th></th>\n",
              "      <th>start</th>\n",
              "      <th>end</th>\n",
              "      <th>Frec_abs</th>\n",
              "    </tr>\n",
              "  </thead>\n",
              "  <tbody>\n",
              "    <tr>\n",
              "      <th>1.00</th>\n",
              "      <td>0</td>\n",
              "      <td>1000</td>\n",
              "      <td>26</td>\n",
              "    </tr>\n",
              "    <tr>\n",
              "      <th>2.00</th>\n",
              "      <td>1000</td>\n",
              "      <td>2000</td>\n",
              "      <td>441</td>\n",
              "    </tr>\n",
              "    <tr>\n",
              "      <th>3.00</th>\n",
              "      <td>2000</td>\n",
              "      <td>3000</td>\n",
              "      <td>134</td>\n",
              "    </tr>\n",
              "    <tr>\n",
              "      <th>4.00</th>\n",
              "      <td>3000</td>\n",
              "      <td>4000</td>\n",
              "      <td>45</td>\n",
              "    </tr>\n",
              "    <tr>\n",
              "      <th>5.00</th>\n",
              "      <td>4000</td>\n",
              "      <td>5000</td>\n",
              "      <td>34</td>\n",
              "    </tr>\n",
              "    <tr>\n",
              "      <th>6.00</th>\n",
              "      <td>5000</td>\n",
              "      <td>10000</td>\n",
              "      <td>11</td>\n",
              "    </tr>\n",
              "    <tr>\n",
              "      <th>7.00</th>\n",
              "      <td>10000</td>\n",
              "      <td>20000</td>\n",
              "      <td>8</td>\n",
              "    </tr>\n",
              "    <tr>\n",
              "      <th>8.00</th>\n",
              "      <td>20000</td>\n",
              "      <td>310000</td>\n",
              "      <td>1</td>\n",
              "    </tr>\n",
              "  </tbody>\n",
              "</table>\n",
              "</div>\n",
              "      <button class=\"colab-df-convert\" onclick=\"convertToInteractive('df-9dc7be00-23f5-4bb5-a9ad-af196c140751')\"\n",
              "              title=\"Convert this dataframe to an interactive table.\"\n",
              "              style=\"display:none;\">\n",
              "        \n",
              "  <svg xmlns=\"http://www.w3.org/2000/svg\" height=\"24px\"viewBox=\"0 0 24 24\"\n",
              "       width=\"24px\">\n",
              "    <path d=\"M0 0h24v24H0V0z\" fill=\"none\"/>\n",
              "    <path d=\"M18.56 5.44l.94 2.06.94-2.06 2.06-.94-2.06-.94-.94-2.06-.94 2.06-2.06.94zm-11 1L8.5 8.5l.94-2.06 2.06-.94-2.06-.94L8.5 2.5l-.94 2.06-2.06.94zm10 10l.94 2.06.94-2.06 2.06-.94-2.06-.94-.94-2.06-.94 2.06-2.06.94z\"/><path d=\"M17.41 7.96l-1.37-1.37c-.4-.4-.92-.59-1.43-.59-.52 0-1.04.2-1.43.59L10.3 9.45l-7.72 7.72c-.78.78-.78 2.05 0 2.83L4 21.41c.39.39.9.59 1.41.59.51 0 1.02-.2 1.41-.59l7.78-7.78 2.81-2.81c.8-.78.8-2.07 0-2.86zM5.41 20L4 18.59l7.72-7.72 1.47 1.35L5.41 20z\"/>\n",
              "  </svg>\n",
              "      </button>\n",
              "      \n",
              "  <style>\n",
              "    .colab-df-container {\n",
              "      display:flex;\n",
              "      flex-wrap:wrap;\n",
              "      gap: 12px;\n",
              "    }\n",
              "\n",
              "    .colab-df-convert {\n",
              "      background-color: #E8F0FE;\n",
              "      border: none;\n",
              "      border-radius: 50%;\n",
              "      cursor: pointer;\n",
              "      display: none;\n",
              "      fill: #1967D2;\n",
              "      height: 32px;\n",
              "      padding: 0 0 0 0;\n",
              "      width: 32px;\n",
              "    }\n",
              "\n",
              "    .colab-df-convert:hover {\n",
              "      background-color: #E2EBFA;\n",
              "      box-shadow: 0px 1px 2px rgba(60, 64, 67, 0.3), 0px 1px 3px 1px rgba(60, 64, 67, 0.15);\n",
              "      fill: #174EA6;\n",
              "    }\n",
              "\n",
              "    [theme=dark] .colab-df-convert {\n",
              "      background-color: #3B4455;\n",
              "      fill: #D2E3FC;\n",
              "    }\n",
              "\n",
              "    [theme=dark] .colab-df-convert:hover {\n",
              "      background-color: #434B5C;\n",
              "      box-shadow: 0px 1px 3px 1px rgba(0, 0, 0, 0.15);\n",
              "      filter: drop-shadow(0px 1px 2px rgba(0, 0, 0, 0.3));\n",
              "      fill: #FFFFFF;\n",
              "    }\n",
              "  </style>\n",
              "\n",
              "      <script>\n",
              "        const buttonEl =\n",
              "          document.querySelector('#df-9dc7be00-23f5-4bb5-a9ad-af196c140751 button.colab-df-convert');\n",
              "        buttonEl.style.display =\n",
              "          google.colab.kernel.accessAllowed ? 'block' : 'none';\n",
              "\n",
              "        async function convertToInteractive(key) {\n",
              "          const element = document.querySelector('#df-9dc7be00-23f5-4bb5-a9ad-af196c140751');\n",
              "          const dataTable =\n",
              "            await google.colab.kernel.invokeFunction('convertToInteractive',\n",
              "                                                     [key], {});\n",
              "          if (!dataTable) return;\n",
              "\n",
              "          const docLinkHtml = 'Like what you see? Visit the ' +\n",
              "            '<a target=\"_blank\" href=https://colab.research.google.com/notebooks/data_table.ipynb>data table notebook</a>'\n",
              "            + ' to learn more about interactive tables.';\n",
              "          element.innerHTML = '';\n",
              "          dataTable['output_type'] = 'display_data';\n",
              "          await google.colab.output.renderOutput(dataTable, element);\n",
              "          const docLink = document.createElement('div');\n",
              "          docLink.innerHTML = docLinkHtml;\n",
              "          element.appendChild(docLink);\n",
              "        }\n",
              "      </script>\n",
              "    </div>\n",
              "  </div>\n",
              "  "
            ]
          },
          "metadata": {},
          "execution_count": 170
        }
      ]
    },
    {
      "cell_type": "code",
      "source": [
        "df.boxplot(column=[\"nr_remunera_liquida\"])"
      ],
      "metadata": {
        "colab": {
          "base_uri": "https://localhost:8080/",
          "height": 364
        },
        "id": "WzZmBZhkNnnR",
        "outputId": "8f223c09-32d2-4343-c223-7cd8322105da"
      },
      "execution_count": 122,
      "outputs": [
        {
          "output_type": "execute_result",
          "data": {
            "text/plain": [
              "<matplotlib.axes._subplots.AxesSubplot at 0x7f7181d76650>"
            ]
          },
          "metadata": {},
          "execution_count": 122
        },
        {
          "output_type": "display_data",
          "data": {
            "text/plain": [
              "<Figure size 576x396 with 1 Axes>"
            ],
            "image/png": "[encoded data removed]"
          },
          "metadata": {}
        }
      ]
    },
    {
      "cell_type": "markdown",
      "metadata": {
        "id": "I1sg7kwKjuU1"
      },
      "source": [
        " **Missing Values**"
      ]
    },
    {
      "cell_type": "code",
      "metadata": {
        "id": "a26UV-kTjmog",
        "outputId": "187f8526-a862-480b-b204-9d908095646c",
        "colab": {
          "base_uri": "https://localhost:8080/"
        }
      },
      "source": [
        "#Verificando se temos dados faltantes\n",
        "df.isnull().sum()"
      ],
      "execution_count": 67,
      "outputs": [
        {
          "output_type": "execute_result",
          "data": {
            "text/plain": [
              "nm_vinculo               0\n",
              "nm_matricula             0\n",
              "nr_cpf                   0\n",
              "ds_situacao              0\n",
              "ds_admissao              0\n",
              "ds_cargo                 0\n",
              "ds_funcao                0\n",
              "ds_lotacao               0\n",
              "sg_carga                 9\n",
              "ds_beneficio           672\n",
              "nr_remunera_bruta        0\n",
              "nr_remunera_liquida      0\n",
              "dtype: int64"
            ]
          },
          "metadata": {},
          "execution_count": 67
        }
      ]
    },
    {
      "cell_type": "code",
      "metadata": {
        "id": "7CPhZjrJ00a1",
        "outputId": "e47091d7-f39c-4d26-e17c-8b092f64de6e",
        "colab": {
          "base_uri": "https://localhost:8080/"
        }
      },
      "source": [
        "#Agrupando por Função\n",
        "df.groupby([df[\"ds_funcao\"]])[\"nr_remunera_liquida\"].sum()"
      ],
      "execution_count": 70,
      "outputs": [
        {
          "output_type": "execute_result",
          "data": {
            "text/plain": [
              "ds_funcao\n",
              "AGENTE COMUNITARIO DE SAUDE PSF                35,594.51\n",
              "AGENTE DE COMBATE A ENDEMIAS                   14,112.62\n",
              "APOSENTADO(A)                                  59,291.29\n",
              "ASSESSOR DE GESTAO                              2,966.12\n",
              "ASSESSOR TECNICO I                              6,439.80\n",
              "                                            ...         \n",
              "TECNICO DE CONTABILIDADE AUTONOMO               1,068.00\n",
              "TECNICO DE ENFERMAGEM                          47,938.27\n",
              "TERAPEUTA OCUPACIONAL                           6,571.81\n",
              "VICE DIRETOR DE ESCOLA                          5,672.56\n",
              "VICE PREFEITO                                   4,441.87\n",
              "Name: nr_remunera_liquida, Length: 71, dtype: float64"
            ]
          },
          "metadata": {},
          "execution_count": 70
        }
      ]
    },
    {
      "cell_type": "code",
      "metadata": {
        "id": "Ov8qN2bI56NI",
        "outputId": "8fc23d92-d74b-4547-d3b8-ed3812ab2e2b",
        "colab": {
          "base_uri": "https://localhost:8080/",
          "height": 376
        }
      },
      "source": [
        "#Gráfico Top 10 - Quantidade de func por função\n",
        "df.groupby([df[\"ds_funcao\"]])[\"nr_remunera_liquida\"].count().sort_values(ascending=False)[:10].plot.barh(title=\"Quantidade por Função\")\n",
        "plt.xlabel(\"Quantidade\")\n",
        "plt.ylabel(\"Função\");"
      ],
      "execution_count": 91,
      "outputs": [
        {
          "output_type": "display_data",
          "data": {
            "text/plain": [
              "<Figure size 576x396 with 1 Axes>"
            ],
            "image/png": "[encoded data removed]"
          },
          "metadata": {}
        }
      ]
    },
    {
      "cell_type": "code",
      "source": [
        "#Gráfico Top 10 - Quantidade de remuneração por função\n",
        "df.groupby([df[\"ds_funcao\"]])[\"nr_remunera_liquida\"].sum().sort_values(ascending=False)[:10].plot.barh(title=\"Total Remuneração Líquida por Função\")\n",
        "plt.xlabel(\"Líquido\")\n",
        "plt.ylabel(\"Função\");"
      ],
      "metadata": {
        "colab": {
          "base_uri": "https://localhost:8080/",
          "height": 376
        },
        "id": "s-RaIaw8GC6u",
        "outputId": "bd76353f-5366-453e-dd2d-660e81bda3de"
      },
      "execution_count": 92,
      "outputs": [
        {
          "output_type": "display_data",
          "data": {
            "text/plain": [
              "<Figure size 576x396 with 1 Axes>"
            ],
            "image/png": "[encoded data removed]"
          },
          "metadata": {}
        }
      ]
    },
    {
      "cell_type": "code",
      "metadata": {
        "id": "qFQBaeXNcMd4",
        "outputId": "bc40a27f-162d-48b0-da83-673aea70b868",
        "colab": {
          "base_uri": "https://localhost:8080/",
          "height": 376
        }
      },
      "source": [
        "df.groupby([df[\"sg_carga\"]])[\"nr_remunera_liquida\"].count().sort_values(ascending=False).plot.barh(title=\"Cargo x Quantidade\")\n",
        "plt.xlabel(\"Quantidade\")\n",
        "plt.ylabel(\"Cargo\");"
      ],
      "execution_count": 93,
      "outputs": [
        {
          "output_type": "display_data",
          "data": {
            "text/plain": [
              "<Figure size 576x396 with 1 Axes>"
            ],
            "image/png": "[encoded data removed]"
          },
          "metadata": {}
        }
      ]
    },
    {
      "cell_type": "code",
      "source": [
        "df.groupby([df[\"sg_carga\"]])[\"nr_remunera_liquida\"].sum().sort_values(ascending=False).plot.barh(title=\"Cargo x Quantidade\")\n",
        "plt.xlabel(\"Quantidade\")\n",
        "plt.ylabel(\"Cargo\");"
      ],
      "metadata": {
        "colab": {
          "base_uri": "https://localhost:8080/",
          "height": 376
        },
        "id": "p726NrhrIf-w",
        "outputId": "0f186aa8-48eb-4d30-9686-f0096ac35a58"
      },
      "execution_count": 97,
      "outputs": [
        {
          "output_type": "display_data",
          "data": {
            "text/plain": [
              "<Figure size 576x396 with 1 Axes>"
            ],
            "image/png": "[encoded data removed]"
          },
          "metadata": {}
        }
      ]
    },
    {
      "cell_type": "code",
      "source": [
        "#Selecionando apenas os auxiliares de serviços gerais\n",
        "df_auxiliar = df[df[\"ds_funcao\"] == \"AUXILIAR DE SERVIÇOS GERAIS\"]"
      ],
      "metadata": {
        "id": "paLPJ6pnIpTp"
      },
      "execution_count": 101,
      "outputs": []
    },
    {
      "cell_type": "code",
      "metadata": {
        "id": "GiL4JRnU_LSf",
        "colab": {
          "base_uri": "https://localhost:8080/",
          "height": 337
        },
        "outputId": "76d3d4b3-e9cc-4011-f6c1-e3e7c7e35816"
      },
      "source": [
        "df_auxiliar.head()"
      ],
      "execution_count": 102,
      "outputs": [
        {
          "output_type": "execute_result",
          "data": {
            "text/plain": [
              "     nm_vinculo  nm_matricula         nr_cpf ds_situacao ds_admissao  \\\n",
              "0           132           132  ***.179196-**       Ativo     Efetivo   \n",
              "49         3578          3019  ***.242336-**     Inativo  Contratado   \n",
              "61          294           294  ***.718296-**       Ativo     Efetivo   \n",
              "74         3594          3036  ***.234246-**       Ativo  Contratado   \n",
              "174          63            63  ***.160276-**       Ativo     Efetivo   \n",
              "\n",
              "                        ds_cargo                    ds_funcao  \\\n",
              "0    AUXILIAR DE SERVIÇOS GERAIS  AUXILIAR DE SERVIÇOS GERAIS   \n",
              "49   AUXILIAR DE SERVIÇOS GERAIS  AUXILIAR DE SERVIÇOS GERAIS   \n",
              "61   AUXILIAR DE SERVIÇOS GERAIS  AUXILIAR DE SERVIÇOS GERAIS   \n",
              "74   AUXILIAR DE SERVIÇOS GERAIS  AUXILIAR DE SERVIÇOS GERAIS   \n",
              "174  AUXILIAR DE SERVIÇOS GERAIS  AUXILIAR DE SERVIÇOS GERAIS   \n",
              "\n",
              "                                        ds_lotacao             sg_carga  \\\n",
              "0                     MAN DA LIMPEZA PUBLICA USINA              EFETIVO   \n",
              "49                    MAN DA LIMPEZA PUBLICA USINA  SERVIDOR TEMPORÁRIO   \n",
              "61   DESENV ATIV CURRICULARES DO ENSINO FUNDAMENTA              EFETIVO   \n",
              "74           MAN DAS ESTRADAS VICINAIS E TRANSISTO  SERVIDOR TEMPORÁRIO   \n",
              "174           MAN DAS ESTRADAS VICINAIS E TRANSITO              EFETIVO   \n",
              "\n",
              "    ds_beneficio    nr_remunera_bruta  nr_remunera_liquida  \n",
              "0            NaN            30,216.52            30,119.63  \n",
              "49           NaN             5,009.60             4,936.88  \n",
              "61           NaN             4,568.97             4,455.17  \n",
              "74           NaN             3,939.00             3,885.98  \n",
              "174          NaN             2,569.44             2,318.51  "
            ],
            "text/html": [
              "\n",
              "  <div id=\"df-6d421755-8a91-4dc4-b869-491655762d48\">\n",
              "    <div class=\"colab-df-container\">\n",
              "      <div>\n",
              "<style scoped>\n",
              "    .dataframe tbody tr th:only-of-type {\n",
              "        vertical-align: middle;\n",
              "    }\n",
              "\n",
              "    .dataframe tbody tr th {\n",
              "        vertical-align: top;\n",
              "    }\n",
              "\n",
              "    .dataframe thead th {\n",
              "        text-align: right;\n",
              "    }\n",
              "</style>\n",
              "<table border=\"1\" class=\"dataframe\">\n",
              "  <thead>\n",
              "    <tr style=\"text-align: right;\">\n",
              "      <th></th>\n",
              "      <th>nm_vinculo</th>\n",
              "      <th>nm_matricula</th>\n",
              "      <th>nr_cpf</th>\n",
              "      <th>ds_situacao</th>\n",
              "      <th>ds_admissao</th>\n",
              "      <th>ds_cargo</th>\n",
              "      <th>ds_funcao</th>\n",
              "      <th>ds_lotacao</th>\n",
              "      <th>sg_carga</th>\n",
              "      <th>ds_beneficio</th>\n",
              "      <th>nr_remunera_bruta</th>\n",
              "      <th>nr_remunera_liquida</th>\n",
              "    </tr>\n",
              "  </thead>\n",
              "  <tbody>\n",
              "    <tr>\n",
              "      <th>0</th>\n",
              "      <td>132</td>\n",
              "      <td>132</td>\n",
              "      <td>***.179196-**</td>\n",
              "      <td>Ativo</td>\n",
              "      <td>Efetivo</td>\n",
              "      <td>AUXILIAR DE SERVIÇOS GERAIS</td>\n",
              "      <td>AUXILIAR DE SERVIÇOS GERAIS</td>\n",
              "      <td>MAN DA LIMPEZA PUBLICA USINA</td>\n",
              "      <td>EFETIVO</td>\n",
              "      <td>NaN</td>\n",
              "      <td>30,216.52</td>\n",
              "      <td>30,119.63</td>\n",
              "    </tr>\n",
              "    <tr>\n",
              "      <th>49</th>\n",
              "      <td>3578</td>\n",
              "      <td>3019</td>\n",
              "      <td>***.242336-**</td>\n",
              "      <td>Inativo</td>\n",
              "      <td>Contratado</td>\n",
              "      <td>AUXILIAR DE SERVIÇOS GERAIS</td>\n",
              "      <td>AUXILIAR DE SERVIÇOS GERAIS</td>\n",
              "      <td>MAN DA LIMPEZA PUBLICA USINA</td>\n",
              "      <td>SERVIDOR TEMPORÁRIO</td>\n",
              "      <td>NaN</td>\n",
              "      <td>5,009.60</td>\n",
              "      <td>4,936.88</td>\n",
              "    </tr>\n",
              "    <tr>\n",
              "      <th>61</th>\n",
              "      <td>294</td>\n",
              "      <td>294</td>\n",
              "      <td>***.718296-**</td>\n",
              "      <td>Ativo</td>\n",
              "      <td>Efetivo</td>\n",
              "      <td>AUXILIAR DE SERVIÇOS GERAIS</td>\n",
              "      <td>AUXILIAR DE SERVIÇOS GERAIS</td>\n",
              "      <td>DESENV ATIV CURRICULARES DO ENSINO FUNDAMENTA</td>\n",
              "      <td>EFETIVO</td>\n",
              "      <td>NaN</td>\n",
              "      <td>4,568.97</td>\n",
              "      <td>4,455.17</td>\n",
              "    </tr>\n",
              "    <tr>\n",
              "      <th>74</th>\n",
              "      <td>3594</td>\n",
              "      <td>3036</td>\n",
              "      <td>***.234246-**</td>\n",
              "      <td>Ativo</td>\n",
              "      <td>Contratado</td>\n",
              "      <td>AUXILIAR DE SERVIÇOS GERAIS</td>\n",
              "      <td>AUXILIAR DE SERVIÇOS GERAIS</td>\n",
              "      <td>MAN DAS ESTRADAS VICINAIS E TRANSISTO</td>\n",
              "      <td>SERVIDOR TEMPORÁRIO</td>\n",
              "      <td>NaN</td>\n",
              "      <td>3,939.00</td>\n",
              "      <td>3,885.98</td>\n",
              "    </tr>\n",
              "    <tr>\n",
              "      <th>174</th>\n",
              "      <td>63</td>\n",
              "      <td>63</td>\n",
              "      <td>***.160276-**</td>\n",
              "      <td>Ativo</td>\n",
              "      <td>Efetivo</td>\n",
              "      <td>AUXILIAR DE SERVIÇOS GERAIS</td>\n",
              "      <td>AUXILIAR DE SERVIÇOS GERAIS</td>\n",
              "      <td>MAN DAS ESTRADAS VICINAIS E TRANSITO</td>\n",
              "      <td>EFETIVO</td>\n",
              "      <td>NaN</td>\n",
              "      <td>2,569.44</td>\n",
              "      <td>2,318.51</td>\n",
              "    </tr>\n",
              "  </tbody>\n",
              "</table>\n",
              "</div>\n",
              "      <button class=\"colab-df-convert\" onclick=\"convertToInteractive('df-6d421755-8a91-4dc4-b869-491655762d48')\"\n",
              "              title=\"Convert this dataframe to an interactive table.\"\n",
              "              style=\"display:none;\">\n",
              "        \n",
              "  <svg xmlns=\"http://www.w3.org/2000/svg\" height=\"24px\"viewBox=\"0 0 24 24\"\n",
              "       width=\"24px\">\n",
              "    <path d=\"M0 0h24v24H0V0z\" fill=\"none\"/>\n",
              "    <path d=\"M18.56 5.44l.94 2.06.94-2.06 2.06-.94-2.06-.94-.94-2.06-.94 2.06-2.06.94zm-11 1L8.5 8.5l.94-2.06 2.06-.94-2.06-.94L8.5 2.5l-.94 2.06-2.06.94zm10 10l.94 2.06.94-2.06 2.06-.94-2.06-.94-.94-2.06-.94 2.06-2.06.94z\"/><path d=\"M17.41 7.96l-1.37-1.37c-.4-.4-.92-.59-1.43-.59-.52 0-1.04.2-1.43.59L10.3 9.45l-7.72 7.72c-.78.78-.78 2.05 0 2.83L4 21.41c.39.39.9.59 1.41.59.51 0 1.02-.2 1.41-.59l7.78-7.78 2.81-2.81c.8-.78.8-2.07 0-2.86zM5.41 20L4 18.59l7.72-7.72 1.47 1.35L5.41 20z\"/>\n",
              "  </svg>\n",
              "      </button>\n",
              "      \n",
              "  <style>\n",
              "    .colab-df-container {\n",
              "      display:flex;\n",
              "      flex-wrap:wrap;\n",
              "      gap: 12px;\n",
              "    }\n",
              "\n",
              "    .colab-df-convert {\n",
              "      background-color: #E8F0FE;\n",
              "      border: none;\n",
              "      border-radius: 50%;\n",
              "      cursor: pointer;\n",
              "      display: none;\n",
              "      fill: #1967D2;\n",
              "      height: 32px;\n",
              "      padding: 0 0 0 0;\n",
              "      width: 32px;\n",
              "    }\n",
              "\n",
              "    .colab-df-convert:hover {\n",
              "      background-color: #E2EBFA;\n",
              "      box-shadow: 0px 1px 2px rgba(60, 64, 67, 0.3), 0px 1px 3px 1px rgba(60, 64, 67, 0.15);\n",
              "      fill: #174EA6;\n",
              "    }\n",
              "\n",
              "    [theme=dark] .colab-df-convert {\n",
              "      background-color: #3B4455;\n",
              "      fill: #D2E3FC;\n",
              "    }\n",
              "\n",
              "    [theme=dark] .colab-df-convert:hover {\n",
              "      background-color: #434B5C;\n",
              "      box-shadow: 0px 1px 3px 1px rgba(0, 0, 0, 0.15);\n",
              "      filter: drop-shadow(0px 1px 2px rgba(0, 0, 0, 0.3));\n",
              "      fill: #FFFFFF;\n",
              "    }\n",
              "  </style>\n",
              "\n",
              "      <script>\n",
              "        const buttonEl =\n",
              "          document.querySelector('#df-6d421755-8a91-4dc4-b869-491655762d48 button.colab-df-convert');\n",
              "        buttonEl.style.display =\n",
              "          google.colab.kernel.accessAllowed ? 'block' : 'none';\n",
              "\n",
              "        async function convertToInteractive(key) {\n",
              "          const element = document.querySelector('#df-6d421755-8a91-4dc4-b869-491655762d48');\n",
              "          const dataTable =\n",
              "            await google.colab.kernel.invokeFunction('convertToInteractive',\n",
              "                                                     [key], {});\n",
              "          if (!dataTable) return;\n",
              "\n",
              "          const docLinkHtml = 'Like what you see? Visit the ' +\n",
              "            '<a target=\"_blank\" href=https://colab.research.google.com/notebooks/data_table.ipynb>data table notebook</a>'\n",
              "            + ' to learn more about interactive tables.';\n",
              "          element.innerHTML = '';\n",
              "          dataTable['output_type'] = 'display_data';\n",
              "          await google.colab.output.renderOutput(dataTable, element);\n",
              "          const docLink = document.createElement('div');\n",
              "          docLink.innerHTML = docLinkHtml;\n",
              "          element.appendChild(docLink);\n",
              "        }\n",
              "      </script>\n",
              "    </div>\n",
              "  </div>\n",
              "  "
            ]
          },
          "metadata": {},
          "execution_count": 102
        }
      ]
    },
    {
      "cell_type": "code",
      "metadata": {
        "id": "xaH-Ym6h_SG9",
        "colab": {
          "base_uri": "https://localhost:8080/",
          "height": 376
        },
        "outputId": "d401f0c6-66cd-46aa-c9c7-d826da4c586a"
      },
      "source": [
        "(df.groupby([df[\"ds_lotacao\"]])[\"nr_remunera_liquida\"].count()/df[\"nr_remunera_liquida\"].count()).sort_values(ascending=False)[:10].plot.barh(title=\"Quantidade % por Lotação\")\n",
        "plt.xlabel(\"Quantidade (%)\")\n",
        "plt.ylabel(\"Lotação\");"
      ],
      "execution_count": 114,
      "outputs": [
        {
          "output_type": "display_data",
          "data": {
            "text/plain": [
              "<Figure size 576x396 with 1 Axes>"
            ],
            "image/png": "[encoded data removed]"
          },
          "metadata": {}
        }
      ]
    },
    {
      "cell_type": "code",
      "metadata": {
        "id": "8HDLr3pp_hqf",
        "colab": {
          "base_uri": "https://localhost:8080/",
          "height": 376
        },
        "outputId": "4def4332-62c7-4565-df07-898bf491f53c"
      },
      "source": [
        "(df.groupby([df[\"ds_lotacao\"]])[\"nr_remunera_liquida\"].sum()/df[\"nr_remunera_liquida\"].sum()).sort_values(ascending=False)[:10].plot.barh(title=\"Porcentagem do Total por Lotação\")\n",
        "plt.xlabel(\"Porcentagem\")\n",
        "plt.ylabel(\"Lotação\");"
      ],
      "execution_count": 111,
      "outputs": [
        {
          "output_type": "display_data",
          "data": {
            "text/plain": [
              "<Figure size 576x396 with 1 Axes>"
            ],
            "image/png": "[encoded data removed]"
          },
          "metadata": {}
        }
      ]
    }
  ]
}